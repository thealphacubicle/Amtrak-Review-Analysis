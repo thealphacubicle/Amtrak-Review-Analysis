{
 "cells": [
  {
   "cell_type": "markdown",
   "metadata": {
    "id": "PT8YMc88esBX"
   },
   "source": [
    "# Amtrak Reviews Analysis"
   ]
  },
  {
   "cell_type": "markdown",
   "metadata": {
    "id": "HjD11KoIewUj"
   },
   "source": [
    "## Executive Summary"
   ]
  },
  {
   "cell_type": "markdown",
   "metadata": {
    "id": "ABo7YUqre2mC"
   },
   "source": [
    "The goal of this analysis is to look at customer reviews of Amtrak's Northeastern Regional service from Washington D.C. to Boston to analyze how customers feel about the service as well as recommend where Amtrak invests its finances to better improve customer experiences! By scraping TripAdvisor, Yelp, and other discussion forums, I aim to look at how the customer experience is on Amtrak and what the company can do better to enhance the experience to bring back the train transport system in America!"
   ]
  },
  {
   "cell_type": "markdown",
   "metadata": {
    "id": "qzeIyifkgtoq"
   },
   "source": [
    "## Data Scraping & Dataset Formation"
   ]
  },
  {
   "cell_type": "code",
   "execution_count": 23,
   "metadata": {
    "id": "Fq1WfyqNee8I"
   },
   "outputs": [],
   "source": [
    "from scrape import add_reviews_to_dict, print_review_count\n",
    "import pandas as pd\n",
    "from pprint import pprint\n",
    "import seaborn as sns\n",
    "import matplotlib.pyplot as plt"
   ]
  },
  {
   "cell_type": "code",
   "execution_count": 2,
   "metadata": {
    "id": "i3AuZvHujAz-"
   },
   "outputs": [],
   "source": [
    "stops = ['2 S Station', 'Boston, MA 02111', 'Yelp users haven’t asked any questions yet about Amtrak.', 'Start your review of Amtrak.']\n",
    "reviews = {}"
   ]
  },
  {
   "cell_type": "code",
   "execution_count": 3,
   "metadata": {
    "colab": {
     "base_uri": "https://localhost:8080/",
     "height": 346
    },
    "id": "BGvKV0mUxDZw",
    "outputId": "43819350-9d20-4db8-9566-e960decc20e7"
   },
   "outputs": [],
   "source": [
    "# Scrape reviews off Yelp and add valid reviews to list\n",
    "add_reviews_to_dict(0, 90, step=10, base_url='https://www.yelp.com/biz/amtrak-boston-3?start={}',\n",
    "                    tag_type='span', class_names='raw__09f24__T4Ezm', stop_list=stops, review_dct=reviews)"
   ]
  },
  {
   "cell_type": "code",
   "execution_count": 4,
   "metadata": {},
   "outputs": [],
   "source": [
    "# Loop through each page fo Trustpilot and add valid reviews to the list\n",
    "add_reviews_to_dict(1, 30, base_url=\"https://www.trustpilot.com/review/www.amtrak.com?page={}\",\n",
    "                              tag_type='p', review_dct=reviews,\n",
    "                              class_names='typography_body-l__KUYFJ typography_appearance-default__AAY17 typography_color-black__5LYEn',\n",
    "                              stop_list=stops,\n",
    "                              attrs={'data-service-review-text-typography': 'true'})"
   ]
  },
  {
   "cell_type": "code",
   "execution_count": 5,
   "metadata": {},
   "outputs": [],
   "source": [
    "# Loop through each page fo Viewpoints.com and add valid reviews to the list\n",
    "add_reviews_to_dict(0, 1, base_url=\"https://www.viewpoints.com/Amtrak-Train-TRavel-reviews\",\n",
    "                              tag_type='p', review_dct=reviews,\n",
    "                              class_names=['pr-review-faceoff-review', 'pr-comments', 'pr-review-faceoff-review-full'],\n",
    "                              stop_list=stops)"
   ]
  },
  {
   "cell_type": "code",
   "execution_count": 6,
   "metadata": {},
   "outputs": [],
   "source": [
    "# Loop through each page fo Reddit.com and add valid reviews to the list\n",
    "add_reviews_to_dict(0, 1, base_url=\"https://www.sitejabber.com/reviews/amtrak.com\",\n",
    "                              tag_type='p', review_dct=reviews,\n",
    "                              stop_list=stops)"
   ]
  },
  {
   "cell_type": "code",
   "execution_count": 7,
   "metadata": {},
   "outputs": [],
   "source": [
    "# Export data to dataframe\n",
    "rows = []\n",
    "# Loop through the dictionary and extract website_name and review\n",
    "for website_name, review_list in reviews.items():\n",
    "    for r in review_list:\n",
    "        rows.append({'Website': website_name, 'Review': r})\n",
    "\n",
    "# Create the DataFrame\n",
    "df = pd.DataFrame(rows)"
   ]
  },
  {
   "cell_type": "code",
   "execution_count": 10,
   "metadata": {},
   "outputs": [],
   "source": [
    "# Store as CSV file\n",
    "df.to_csv('/Users/srihariraman/PycharmProjects/Amtrak Twitter Analysis/Amtrak-Twitter-Analysis/reviews.csv')"
   ]
  },
  {
   "cell_type": "markdown",
   "metadata": {},
   "source": [
    "## Pre-Processing EDA"
   ]
  },
  {
   "cell_type": "code",
   "execution_count": 3,
   "metadata": {},
   "outputs": [],
   "source": [
    "# Load dataset via CSV when offline\n",
    "df = pd.read_csv(\"reviews.csv\")"
   ]
  },
  {
   "cell_type": "code",
   "execution_count": 4,
   "metadata": {},
   "outputs": [
    {
     "data": {
      "text/html": [
       "<div>\n",
       "<style scoped>\n",
       "    .dataframe tbody tr th:only-of-type {\n",
       "        vertical-align: middle;\n",
       "    }\n",
       "\n",
       "    .dataframe tbody tr th {\n",
       "        vertical-align: top;\n",
       "    }\n",
       "\n",
       "    .dataframe thead th {\n",
       "        text-align: right;\n",
       "    }\n",
       "</style>\n",
       "<table border=\"1\" class=\"dataframe\">\n",
       "  <thead>\n",
       "    <tr style=\"text-align: right;\">\n",
       "      <th></th>\n",
       "      <th>Unnamed: 0</th>\n",
       "      <th>Website</th>\n",
       "      <th>Review</th>\n",
       "    </tr>\n",
       "  </thead>\n",
       "  <tbody>\n",
       "    <tr>\n",
       "      <th>0</th>\n",
       "      <td>0</td>\n",
       "      <td>yelp.com</td>\n",
       "      <td>See all 45 photos</td>\n",
       "    </tr>\n",
       "    <tr>\n",
       "      <th>1</th>\n",
       "      <td>1</td>\n",
       "      <td>yelp.com</td>\n",
       "      <td>See all 45 photos</td>\n",
       "    </tr>\n",
       "    <tr>\n",
       "      <th>2</th>\n",
       "      <td>2</td>\n",
       "      <td>yelp.com</td>\n",
       "      <td>I called Amtrak and they were running on-time ...</td>\n",
       "    </tr>\n",
       "    <tr>\n",
       "      <th>3</th>\n",
       "      <td>3</td>\n",
       "      <td>yelp.com</td>\n",
       "      <td>in the late afternoon!</td>\n",
       "    </tr>\n",
       "    <tr>\n",
       "      <th>4</th>\n",
       "      <td>4</td>\n",
       "      <td>yelp.com</td>\n",
       "      <td>Amtrak service in the</td>\n",
       "    </tr>\n",
       "  </tbody>\n",
       "</table>\n",
       "</div>"
      ],
      "text/plain": [
       "   Unnamed: 0   Website                                             Review\n",
       "0           0  yelp.com                                  See all 45 photos\n",
       "1           1  yelp.com                                  See all 45 photos\n",
       "2           2  yelp.com  I called Amtrak and they were running on-time ...\n",
       "3           3  yelp.com                             in the late afternoon!\n",
       "4           4  yelp.com                             Amtrak service in the "
      ]
     },
     "execution_count": 4,
     "metadata": {},
     "output_type": "execute_result"
    }
   ],
   "source": [
    "df.head()"
   ]
  },
  {
   "cell_type": "code",
   "execution_count": 5,
   "metadata": {},
   "outputs": [
    {
     "data": {
      "text/plain": [
       "(896, 3)"
      ]
     },
     "execution_count": 5,
     "metadata": {},
     "output_type": "execute_result"
    }
   ],
   "source": [
    "df.shape"
   ]
  },
  {
   "cell_type": "code",
   "execution_count": 6,
   "metadata": {},
   "outputs": [
    {
     "data": {
      "text/plain": [
       "Unnamed: 0    896\n",
       "Website         4\n",
       "Review        732\n",
       "dtype: int64"
      ]
     },
     "execution_count": 6,
     "metadata": {},
     "output_type": "execute_result"
    }
   ],
   "source": [
    "df.nunique()"
   ]
  },
  {
   "cell_type": "code",
   "execution_count": 12,
   "metadata": {},
   "outputs": [],
   "source": [
    "# Drop unnamed column\n",
    "df = df.drop(['Unnamed: 0'], axis=1)"
   ]
  },
  {
   "cell_type": "code",
   "execution_count": 13,
   "metadata": {},
   "outputs": [
    {
     "data": {
      "text/plain": [
       "Index(['Website', 'Review'], dtype='object')"
      ]
     },
     "execution_count": 13,
     "metadata": {},
     "output_type": "execute_result"
    }
   ],
   "source": [
    "df.columns"
   ]
  },
  {
   "cell_type": "code",
   "execution_count": 21,
   "metadata": {},
   "outputs": [
    {
     "data": {
      "image/png": "[encoded data removed]",
      "text/plain": [
       "<Figure size 640x480 with 1 Axes>"
      ]
     },
     "metadata": {},
     "output_type": "display_data"
    }
   ],
   "source": [
    "# Analyze count for number of reviews for each website\n",
    "sns.set_style('whitegrid')\n",
    "sns.countplot(data=df, x='Website')\n",
    "plt.title('# of Reviews from Each Website Pre-Processing');"
   ]
  },
  {
   "cell_type": "markdown",
   "metadata": {},
   "source": [
    "**Analysis**: There is likely to be a heavier bias on reviews from Trustpilot since a majority of the reviews are sourced from it. Therefore, if there are more negative reviews on it, it is more likely for it to contribute more to an overall sentiment metric about Amtrak. The converse is also true!"
   ]
  },
  {
   "cell_type": "markdown",
   "metadata": {},
   "source": [
    "## Data Processing"
   ]
  },
  {
   "cell_type": "code",
   "execution_count": null,
   "metadata": {},
   "outputs": [],
   "source": []
  }
 ],
 "metadata": {
  "colab": {
   "provenance": []
  },
  "kernelspec": {
   "display_name": "Python 3 (ipykernel)",
   "language": "python",
   "name": "python3"
  },
  "language_info": {
   "codemirror_mode": {
    "name": "ipython",
    "version": 3
   },
   "file_extension": ".py",
   "mimetype": "text/x-python",
   "name": "python",
   "nbconvert_exporter": "python",
   "pygments_lexer": "ipython3",
   "version": "3.9.13"
  }
 },
 "nbformat": 4,
 "nbformat_minor": 1
}
