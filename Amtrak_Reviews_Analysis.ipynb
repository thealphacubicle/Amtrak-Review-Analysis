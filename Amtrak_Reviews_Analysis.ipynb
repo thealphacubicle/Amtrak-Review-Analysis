{
 "cells": [
  {
   "cell_type": "markdown",
   "metadata": {
    "id": "PT8YMc88esBX"
   },
   "source": [
    "# Amtrak Reviews Analysis"
   ]
  },
  {
   "cell_type": "markdown",
   "metadata": {
    "id": "HjD11KoIewUj"
   },
   "source": [
    "## Executive Summary"
   ]
  },
  {
   "cell_type": "markdown",
   "metadata": {
    "id": "ABo7YUqre2mC"
   },
   "source": [
    "The goal of this analysis is to look at customer reviews of Amtrak's Northeastern Regional service from Washington D.C. to Boston to analyze how customers feel about the service as well as recommend where Amtrak invests its finances to better improve customer experiences! By scraping TripAdvisor, Yelp, and other discussion forums, I aim to look at how the customer experience is on Amtrak and what the company can do better to enhance the experience to bring back the train transport system in America!"
   ]
  },
  {
   "cell_type": "markdown",
   "metadata": {
    "id": "qzeIyifkgtoq"
   },
   "source": [
    "## Data Scraping & Dataset Formation"
   ]
  },
  {
   "cell_type": "code",
   "execution_count": 1,
   "metadata": {
    "id": "Fq1WfyqNee8I"
   },
   "outputs": [],
   "source": [
    "from scrape import add_reviews_to_dict, print_review_count\n",
    "import pandas as pd\n",
    "from pprint import pprint"
   ]
  },
  {
   "cell_type": "code",
   "execution_count": 2,
   "metadata": {
    "id": "i3AuZvHujAz-"
   },
   "outputs": [],
   "source": [
    "stops = ['2 S Station', 'Boston, MA 02111', 'Yelp users haven’t asked any questions yet about Amtrak.', 'Start your review of Amtrak.']\n",
    "reviews = {}"
   ]
  },
  {
   "cell_type": "code",
   "execution_count": 3,
   "metadata": {
    "colab": {
     "base_uri": "https://localhost:8080/",
     "height": 346
    },
    "id": "BGvKV0mUxDZw",
    "outputId": "43819350-9d20-4db8-9566-e960decc20e7"
   },
   "outputs": [],
   "source": [
    "# Scrape reviews off Yelp and add valid reviews to list\n",
    "add_reviews_to_dict(0, 90, step=10, base_url='https://www.yelp.com/biz/amtrak-boston-3?start={}',\n",
    "                    tag_type='span', class_names='raw__09f24__T4Ezm', stop_list=stops, review_dct=reviews)"
   ]
  },
  {
   "cell_type": "code",
   "execution_count": 4,
   "metadata": {},
   "outputs": [],
   "source": [
    "# Loop through each page fo Trustpilot and add valid reviews to the list\n",
    "add_reviews_to_dict(1, 30, base_url=\"https://www.trustpilot.com/review/www.amtrak.com?page={}\",\n",
    "                              tag_type='p', review_dct=reviews,\n",
    "                              class_names='typography_body-l__KUYFJ typography_appearance-default__AAY17 typography_color-black__5LYEn',\n",
    "                              stop_list=stops,\n",
    "                              attrs={'data-service-review-text-typography': 'true'})"
   ]
  },
  {
   "cell_type": "code",
   "execution_count": 5,
   "metadata": {},
   "outputs": [],
   "source": [
    "# Loop through each page fo Viewpoints.com and add valid reviews to the list\n",
    "add_reviews_to_dict(0, 1, base_url=\"https://www.viewpoints.com/Amtrak-Train-TRavel-reviews\",\n",
    "                              tag_type='p', review_dct=reviews,\n",
    "                              class_names=['pr-review-faceoff-review', 'pr-comments', 'pr-review-faceoff-review-full'],\n",
    "                              stop_list=stops)"
   ]
  },
  {
   "cell_type": "code",
   "execution_count": 6,
   "metadata": {},
   "outputs": [],
   "source": [
    "# Loop through each page fo Reddit.com and add valid reviews to the list\n",
    "add_reviews_to_dict(0, 1, base_url=\"https://www.sitejabber.com/reviews/amtrak.com\",\n",
    "                              tag_type='p', review_dct=reviews,\n",
    "                              stop_list=stops)"
   ]
  },
  {
   "cell_type": "code",
   "execution_count": 7,
   "metadata": {},
   "outputs": [],
   "source": [
    "# Export data to dataframe\n",
    "rows = []\n",
    "# Loop through the dictionary and extract website_name and review\n",
    "for website_name, review_list in reviews.items():\n",
    "    for r in review_list:\n",
    "        rows.append({'Website': website_name, 'Review': r})\n",
    "\n",
    "# Create the DataFrame\n",
    "df = pd.DataFrame(rows)"
   ]
  },
  {
   "cell_type": "code",
   "execution_count": 10,
   "metadata": {},
   "outputs": [],
   "source": [
    "# Store as CSV file\n",
    "df.to_csv('/Users/srihariraman/PycharmProjects/Amtrak Twitter Analysis/Amtrak-Twitter-Analysis/reviews.csv')"
   ]
  },
  {
   "cell_type": "markdown",
   "metadata": {},
   "source": [
    "## EDA"
   ]
  },
  {
   "cell_type": "code",
   "execution_count": null,
   "metadata": {},
   "outputs": [],
   "source": [
    "df.shape"
   ]
  },
  {
   "cell_type": "code",
   "execution_count": null,
   "metadata": {},
   "outputs": [],
   "source": [
    "df.nunique()"
   ]
  }
 ],
 "metadata": {
  "colab": {
   "provenance": []
  },
  "kernelspec": {
   "display_name": "Python 3 (ipykernel)",
   "language": "python",
   "name": "python3"
  },
  "language_info": {
   "codemirror_mode": {
    "name": "ipython",
    "version": 3
   },
   "file_extension": ".py",
   "mimetype": "text/x-python",
   "name": "python",
   "nbconvert_exporter": "python",
   "pygments_lexer": "ipython3",
   "version": "3.9.13"
  }
 },
 "nbformat": 4,
 "nbformat_minor": 1
}
